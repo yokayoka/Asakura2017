{
  "nbformat": 4,
  "nbformat_minor": 0,
  "metadata": {
    "colab": {
      "provenance": [],
      "machine_shape": "hm",
      "include_colab_link": true
    },
    "kernelspec": {
      "name": "python3",
      "display_name": "Python 3"
    },
    "language_info": {
      "name": "python"
    }
  },
  "cells": [
    {
      "cell_type": "markdown",
      "metadata": {
        "id": "view-in-github",
        "colab_type": "text"
      },
      "source": [
        "<a href=\"https://colab.research.google.com/github/yokayoka/Asakura2017/blob/master/template_03c3.ipynb\" target=\"_parent\"><img src=\"https://colab.research.google.com/assets/colab-badge.svg\" alt=\"Open In Colab\"/></a>"
      ]
    },
    {
      "cell_type": "markdown",
      "source": [
        "template matching 第3弾\n",
        "rasterio により任意の範囲でラスターデータのclippingと書き出しを行って解析できる\n",
        "\n",
        "[Intro to Python GIS](https://automating-gis-processes.github.io/CSC18/lessons/L6/clipping-raster.html) を参照\n",
        "\n",
        "各ライブラリの解説についてはGIS奮戦記が詳しいので参照するとよい\n",
        "[fiona](https://www.gis-py.com/entry/fiona)\n",
        "[shapely](https://www.gis-py.com/entry/shapely)\n",
        "\n"
      ],
      "metadata": {
        "id": "lboOjyih6Kbc"
      }
    },
    {
      "cell_type": "code",
      "source": [
        "# Colab にはrasterioが入っていないのでインストールする\n",
        "!pip install rasterio\n",
        "# fionaもインストール\n",
        "!pip install fiona\n",
        "# pycrsもインストール\n",
        "!pip install pycrs"
      ],
      "metadata": {
        "id": "0-MEcAqy_ExV"
      },
      "execution_count": null,
      "outputs": []
    },
    {
      "cell_type": "code",
      "source": [
        "# ライブラリのインポート\n",
        "import cv2\n",
        "import numpy as np\n",
        "from matplotlib import pyplot as plt\n",
        "from osgeo import gdal\n",
        "import folium\n",
        "import matplotlib.pyplot as plt\n",
        "import pandas as pd\n",
        "import geopandas as gpd\n",
        "import shapely\n",
        "import rasterio\n",
        "from rasterio.plot import show\n",
        "from rasterio.plot import show_hist\n",
        "from rasterio.mask import mask\n",
        "from shapely.geometry import box\n",
        "import geopandas as gpd\n",
        "from fiona.crs import from_epsg\n",
        "import pycrs\n",
        "import os\n",
        "%matplotlib inline"
      ],
      "metadata": {
        "id": "8W2YRyoxRfZ6"
      },
      "execution_count": null,
      "outputs": []
    },
    {
      "cell_type": "markdown",
      "source": [
        "https://automating-gis-processes.github.io/CSC18/lessons/L6/clipping-raster.html"
      ],
      "metadata": {
        "id": "7tPbYXsRmLd6"
      }
    },
    {
      "cell_type": "code",
      "source": [
        "from google.colab import drive\n",
        "drive.mount('/content/drive')"
      ],
      "metadata": {
        "id": "CTcA89fiPju_"
      },
      "execution_count": null,
      "outputs": []
    },
    {
      "cell_type": "markdown",
      "source": [
        "広域の陰影図とDEMの指定\n",
        "下記のうち解析したいエリアのいずれか一つのセルを実行する。地震前のデータと地震後のデータは必ずフォルダーを別にする。"
      ],
      "metadata": {
        "id": "EiLaDVfjb6JM"
      }
    },
    {
      "cell_type": "code",
      "source": [],
      "metadata": {
        "id": "VDTv39uanVo4"
      },
      "execution_count": null,
      "outputs": []
    },
    {
      "cell_type": "code",
      "source": [
        "# 陰影図とdemのpathを指定する\n",
        "\n",
        "# fp_afs = \"/content/drive/MyDrive/template_matching/machino/af_shade/af_ed683_ed784.tif\"\n",
        "# fp_bfs = \"/content/drive/MyDrive/template_matching/machino/bf_shade/bf_ed_683_ed784.tif\"\n",
        "fp_afs = \"/content/drive/MyDrive/template_matching/makino/af_shade/af_shade_ED673_881.tif\"\n",
        "fp_bfs = \"/content/drive/MyDrive/template_matching/makino/bf_shade/bf_shade_ED673_881.tif\""
      ],
      "metadata": {
        "id": "Id3iBjjd_7Xr"
      },
      "execution_count": null,
      "outputs": []
    },
    {
      "cell_type": "code",
      "source": [
        "# 地震後の陰影図全体をrasterioで読み込む\n",
        "af_data = rasterio.open(fp_afs)\n",
        "# rasterio.plot.show でデータを表示\n",
        "show((af_data, 1), cmap='gray')"
      ],
      "metadata": {
        "id": "_9LZ121wbroC"
      },
      "execution_count": null,
      "outputs": []
    },
    {
      "cell_type": "code",
      "source": [
        "# 地震前の陰影図全体をrasterioで読み込む\n",
        "bf_data = rasterio.open(fp_bfs)\n",
        "# rasterio.plot.show でデータを表示\n",
        "show((bf_data, 1), cmap='gray')"
      ],
      "metadata": {
        "id": "inX4Q0HbIHVd"
      },
      "execution_count": null,
      "outputs": []
    },
    {
      "cell_type": "code",
      "source": [
        "# bounding box を設定する\n",
        "area_size = 1000\n",
        "# minx, miny = 1500, 163500\n",
        "# maxx, maxy = 2500, 164500\n",
        "# minx, miny = -7000, 156500\n",
        "# maxx, maxy = -5000, 154000\n",
        "minx, miny = -10600, 157800\n",
        "maxx, maxy = minx + area_size, miny + area_size\n",
        "# minx, miny = -7000, 160500\n",
        "# maxx, maxy = -6000, 162500\n",
        "bbox = box(minx, miny, maxx, maxy)"
      ],
      "metadata": {
        "id": "M3zwCNuAnt5I"
      },
      "execution_count": null,
      "outputs": []
    },
    {
      "cell_type": "code",
      "source": [
        "# 平面直角7系のEPSGコードを設定しておく\n",
        "epsg_code = 6675"
      ],
      "metadata": {
        "id": "HsBJ_jgyt_Bt"
      },
      "execution_count": null,
      "outputs": []
    },
    {
      "cell_type": "code",
      "source": [
        "# geodataframe の座標を表示する関数を定義\n",
        "def getFeatures(gdf):\n",
        "    \"\"\"Function to parse features from GeoDataFrame in such a manner that rasterio wants them\"\"\"\n",
        "    import json\n",
        "    return [json.loads(gdf.to_json())['features'][0]['geometry']]"
      ],
      "metadata": {
        "id": "xJzKT5NnptOl"
      },
      "execution_count": null,
      "outputs": []
    },
    {
      "cell_type": "code",
      "source": [
        "# ラスターを指定範囲でクリップしてそのパスを返す関数\n",
        "def clip_raster(fp, x1: int, y1: int, x2: int, y2:int, epsg_code):\n",
        "  data = rasterio.open(fp)\n",
        "  # geopandas でbboxのgeodataframeを作成する\n",
        "  geo = gpd.GeoDataFrame({'geometry': bbox}, index=[0], crs=from_epsg(6675))\n",
        "  # getFeature 関数を使ってbboxの座標をcorrdsとして取得\n",
        "  coords = getFeatures(geo)\n",
        "  # data からcoordの示す範囲内のデータを切り出す\n",
        "  out_img, out_transform = mask(dataset=data, shapes=coords, crop=True)\n",
        "  # 元のメタファイルを出力用のout_metaにコピーしておく\n",
        "  out_meta = data.meta.copy()\n",
        "  out_meta.update({\"driver\": \"GTiff\",\n",
        "                 \"height\": out_img.shape[1],\n",
        "                 \"width\": out_img.shape[2],\n",
        "                 \"transform\": out_transform,\n",
        "                 \"crs\": epsg_code})\n",
        "  # geotiffを出力するpathの設定\n",
        "  # ファイル名の設定 x座標については- (マイナス)をファイル名に使いたくないのでwに置換する\n",
        "  fl = str(x1).replace('-', 'w') + \"_\" + str(y1) + \"_\" + str(x2).replace('-', 'w') + \"_\" + str(y2) + \".tif\"\n",
        "  # 出力先フォルダーの設定（元ファイルと同じ）\n",
        "  #dr = fp[0:(-1*len(fp_afs.split(\"/\")[-1]))]\n",
        "  dr = os.path.dirname(fp)\n",
        "  # out_tif = dr + \"/\" + fl\n",
        "  out_tif = os.path.join(dr, fl)\n",
        "  #print(out_tif)\n",
        "  # 出力先にファイルを出力\n",
        "  # Create the necessary directories if they don't exist\n",
        "  os.makedirs(dr, exist_ok=True)\n",
        "  with rasterio.open(out_tif, \"w\", **out_meta) as dest:\n",
        "    dest.write(out_img)\n",
        "  # 出力ファイルのpathを戻り値として返す\n",
        "  return out_tif\n",
        "  # out_tif = dr + \"/\" + fl\n",
        "  out_tif = os.path.join(dr, fl)\n",
        "  #print(out_tif)\n",
        "  # 出力先にファイルを出力\n",
        "  with rasterio.open(out_tif, \"w\", **out_meta) as dest:\n",
        "    dest.write(out_img)\n",
        "  # 出力ファイルのpathを戻り値として返す\n",
        "  return out_tif"
      ],
      "metadata": {
        "id": "_lP7AwEqiDb9"
      },
      "execution_count": null,
      "outputs": []
    },
    {
      "cell_type": "code",
      "source": [
        "# 広域ラスター (shade) から指定領域をクリップする\n",
        "bfs_clipped = clip_raster (fp_bfs, minx, miny, maxx, maxy, epsg_code)\n",
        "afs_clipped = clip_raster (fp_afs, minx, miny, maxx, maxy, epsg_code)\n",
        "\n",
        "print(afs_clipped)"
      ],
      "metadata": {
        "id": "g8WfU4C2U5mQ"
      },
      "execution_count": null,
      "outputs": []
    },
    {
      "cell_type": "code",
      "source": [
        "# グレースケールで地震前後の画像を読み込む\n",
        "af_image = cv2.imread(afs_clipped, cv2.IMREAD_GRAYSCALE)\n",
        "bf_image = cv2.imread(bfs_clipped, cv2.IMREAD_GRAYSCALE)\n",
        "\n",
        "# データが存在しない場合は警告する\n",
        "if af_image is None:\n",
        "    raise ValueError(f\"Could not load image from path: {afs_clipped}\")\n",
        "if bf_image is None:\n",
        "    raise ValueError(f\"Could not load image from path: {bfs_clipped}\")"
      ],
      "metadata": {
        "id": "39gkELg-YwRr"
      },
      "execution_count": null,
      "outputs": []
    },
    {
      "cell_type": "code",
      "source": [
        "#　地震前の陰影図を表示\n",
        "plt.imshow(bf_image, cmap='gray')"
      ],
      "metadata": {
        "id": "nKsRe5OYafx-"
      },
      "execution_count": null,
      "outputs": []
    },
    {
      "cell_type": "code",
      "source": [
        "#　地震後の陰影図を表示\n",
        "plt.imshow(af_image, cmap='gray')"
      ],
      "metadata": {
        "id": "xCAEdcVRanes"
      },
      "execution_count": null,
      "outputs": []
    },
    {
      "cell_type": "code",
      "source": [
        "# GDALで地図データの情報を取得\n",
        "# https://gis4programmers.wordpress.com/2017/01/06/using-gdal-to-get-raster-extent/\n",
        "# upy は画像南西のy座標らしい、平面直角なのでskewは0となる\n",
        "bf_Src = gdal.Open(bfs_clipped)\n",
        "upx, xres, xskew, upy, yskew, yres = bf_Src.GetGeoTransform()"
      ],
      "metadata": {
        "id": "8s2QtWtAa3RI"
      },
      "execution_count": null,
      "outputs": []
    },
    {
      "cell_type": "code",
      "source": [
        "bf_Src.GetGeoTransform()"
      ],
      "metadata": {
        "id": "d4OHBx2URLy2"
      },
      "execution_count": null,
      "outputs": []
    },
    {
      "cell_type": "code",
      "source": [
        "# ピクセル座標を平面直角の地理座標（m）に変換する関数\n",
        "def px2coords(px, py, upx, upy, xres, yres):\n",
        "    x = upx + (px * xres)\n",
        "    #y = upy - (py * yres)\n",
        "    y = upy + (py * yres)\n",
        "    return x, y"
      ],
      "metadata": {
        "id": "7AHKDzjkbORD"
      },
      "execution_count": null,
      "outputs": []
    },
    {
      "cell_type": "code",
      "source": [
        "# Template matching の実行\n",
        "# 画像のサイズ（pixel）を取得\n",
        "x_size, y_size = bf_image.shape[0], bf_image.shape[1]\n",
        "# テンプレート画像のサイズ（pixel単位）を設定する\n",
        "win_size = 100\n",
        "\n",
        "# データを格納するための空の配列を作成する\n",
        "# 元画像のテンプレート取得元の北西端のピクセルx座標\n",
        "l_nw_px =[]\n",
        "# 元画像のテンプレート取得元の北西端のピクセルy座標\n",
        "l_nw_py =[]\n",
        "\n",
        "# 元画像のテンプレート取得元の南東端のピクセルx座標\n",
        "l_se_px =[]\n",
        "# 元画像のテンプレート取得元の南東端のピクセルy座標\n",
        "l_se_py =[]\n",
        "\n",
        "# 元画像のテンプレート取得元の中心ピクセル座標\n",
        "l_center_px = []\n",
        "l_center_py = []\n",
        "# 平面直角座標\n",
        "l_center_mx = []\n",
        "l_center_my = []\n",
        "\n",
        "# 照合先のピクセルx座標\n",
        "l_target_px = []\n",
        "# 照合先ピクセルy座標\n",
        "l_target_py = []\n",
        "\n",
        "# 照合先のメートルx座標（平面直角）\n",
        "l_target_mx = []\n",
        "# 照合先のメートルy座標（平面直角）\n",
        "l_target_my = []\n",
        "\n",
        "# 類似度\n",
        "l_cr = []\n",
        "\n",
        "# 変位量のx成分 pixel単位\n",
        "l_dpx = []\n",
        "# 変位量のy成分 pixel単位\n",
        "l_dpy = []\n",
        "\n",
        "# 変位量のx成分 m単位\n",
        "l_dmx = []\n",
        "# 変位量のy成分 m単位\n",
        "l_dmy = []\n",
        "\n",
        "# 変位量 m単位: dmx と dmy の平方和\n",
        "l_dm =[]\n",
        "\n",
        "# step はテンプレートのサイズの半分に設定する\n",
        "step = int(win_size / 2)\n",
        "\n",
        "# 開始点と終了点の設定\n",
        "# 誤差を低減するために縁辺部は含まない\n",
        "start = win_size\n",
        "end_x = x_size - win_size\n",
        "end_y = y_size - win_size\n",
        "\n",
        "# 類似度の閾値を設定（類似度がこれ以上の場合にデータ出力）\n",
        "threshold = 0.7\n",
        "# 変位量の閾値を設定（変位量がこれ以下の場合にデータ出力、これ以上はエラーとみなす; m単位）\n",
        "thres_dm =20\n",
        "\n",
        "# yを北から南に移動\n",
        "for y0 in range (start, end_y, step):\n",
        "  # xを西から東に移動\n",
        "  for x0 in range (start, end_x, step):\n",
        "    # テンプレート画像の南東のピクセル座標を取得\n",
        "    x1 = x0 + win_size\n",
        "    y1 = y0 + win_size\n",
        "\n",
        "    # テンプレート画像の取得\n",
        "    # 地震前の画像（bf_image）の numpy array からテンプレート用の画像データを直接切り取っています。numpyの場合は、行 > 列の順でアドレスを指定するので\n",
        "    # y->xの順になることに注意してください。\n",
        "    template = bf_image[y0:y1, x0:x1]\n",
        "\n",
        "    # テンプレートマッチングを実行\n",
        "    result = cv2.matchTemplate(af_image, template, cv2.TM_CCOEFF_NORMED)\n",
        "    # 最小値と最大値の位置を取得\n",
        "    # 参考　https://www.codevace.com/py-opencv-min-max/\n",
        "    min_val, max_val, min_loc, max_loc = cv2.minMaxLoc(result)\n",
        "\n",
        "    # 類似度が最大になる場所のx, y のpixel座標を取得する\n",
        "    target_px, target_py = max_loc[0], max_loc[1]\n",
        "\n",
        "    # 類似度が最大になる場所のメートル（平面直角）\n",
        "    target_mx = px2coords(target_px, target_py, upx, upy, xres, yres)[0]\n",
        "    target_my = px2coords(target_px, target_py, upx, upy, xres, yres)[1]\n",
        "\n",
        "    # 元画像のテンプレートの位置と類似度最大値の位置との差から変位量を取得\n",
        "    # 北への移動と東への移動がそれぞれ正となる\n",
        "    # pixelの差\n",
        "    dpx = max_loc[0] - x0\n",
        "    # m に換算\n",
        "    dxm = dpx * xres\n",
        "\n",
        "    # pixelの差\n",
        "    dpy = max_loc[1] - y0\n",
        "    # m に換算\n",
        "    dym = dpy * yres\n",
        "\n",
        "    # 変位量（dxmとdymの平方和）を算出\n",
        "    dm = np.hypot(dxm, dym)\n",
        "\n",
        "    # 類似度が閾値以上で変位量が閾値以下の場合に結果を出力する\n",
        "    if max_val > threshold and dm < thres_dm:\n",
        "      # テンプレートの北西端の座標データを追加\n",
        "      l_nw_px.append(x0)\n",
        "      l_nw_py.append(y0)\n",
        "\n",
        "      # テンプレートの南東端の座標データを追加\n",
        "      l_se_px.append(x1)\n",
        "      l_se_py.append(y1)\n",
        "\n",
        "      # テンプレートの中心点の座標データを追加\n",
        "      center_px = int((x0 + x1)*0.5)\n",
        "      center_py = int((y0 + y1)*0.5)\n",
        "      l_center_px.append(center_px)\n",
        "      l_center_py.append(center_py)\n",
        "      center_mx = px2coords(center_px, center_py, upx, upy, xres, yres)[0]\n",
        "      center_my = px2coords(center_px, center_py, upx, upy, xres, yres)[1]\n",
        "      l_center_mx.append(center_mx)\n",
        "      l_center_my.append(center_my)\n",
        "\n",
        "\n",
        "      # 照合先ピクセルの位置をリストに追加\n",
        "      l_target_px.append(target_px)\n",
        "      l_target_py.append(target_py)\n",
        "\n",
        "      # 照合先の位置のm座標をリストに追加\n",
        "      l_target_mx.append(target_mx)\n",
        "      l_target_my.append(target_my)\n",
        "      # 類似度のリストへの追加\n",
        "      l_cr.append(max_val)\n",
        "      # 変位量データの追加（pixel）\n",
        "      l_dpx.append(dpx)\n",
        "      l_dpy.append(dpy)\n",
        "      # 変位量データの追加（m）\n",
        "      l_dmx.append(dxm)\n",
        "      l_dmy.append(dym)\n",
        "      # 変位量データの追加（m）の平方和\n",
        "      l_dm.append(dm)\n",
        "    else:\n",
        "      continue\n",
        "\n",
        "# 画面出力\n",
        "#print(f'中心座標 pixel: {center_p}')\n",
        "#print(f'座標 m: {center_xycord}')\n",
        "print(f'類似度: {max_val}')\n",
        "print(f'dx: {dxm}m, dy: {dym}m')\n",
        "\n",
        "fln = bfs_clipped.split('/')[-1].split('.')[0] + \"_w\" + str(win_size) + \".png\"\n",
        "#out_fig_path = \"/content/drive/MyDrive/IPU_Share/learning_opencv/template_matching/kamishoriki/fig\"\n",
        "out_fig_path = \"/content/drive/MyDrive/template_matching/machino/fig\"\n",
        "out_path = os.path.join(out_fig_path, fln)\n",
        "\n",
        "#　地震後の陰影図を表示してその上にベクトルを表示\n",
        "# pivot = \"mid\" で線分の中央点に合わせる\n",
        "\n",
        "# プロット用のarrayを作成。y方向は北が正になるのでyresをかけてピクセル差分の方向（南が正）から反転させる\n",
        "plot_dpx = np.array(l_dpx) * xres\n",
        "plot_dpy = np.array(l_dpy) * yres\n",
        "\n",
        "# ベクトルの大きさを計算、値が小さいと色が表示されないので100をかけてcm単位とする\n",
        "#mag = np.hypot(l_dpx, l_dpy) * 100 * xres\n",
        "mag = np.hypot(plot_dpx, plot_dpy) * 100\n",
        "\n",
        "fig, ax = plt.subplots(figsize = (10, 10))\n",
        "ax.imshow(af_image, cmap='gray')\n",
        "Q = ax.quiver(l_center_px, l_center_py, plot_dpx, plot_dpy, mag, pivot =\"mid\", cmap='jet', scale_units='xy', scale=0.05)\n",
        "# Q = ax.quiver(l_center_px, l_center_py, plot_dpx, plot_dpy, mag, pivot =\"mid\", cmap='jet', scale_units='xy', scale=0.1)\n",
        "\n",
        "fig.colorbar(Q, label='vectorrr size (cm)')\n",
        "ax.scatter(l_center_px, l_center_py, color='red', s =1)\n",
        "\n",
        "plt.savefig(out_path)\n"
      ],
      "metadata": {
        "id": "_Hog5OWQbPpM"
      },
      "execution_count": null,
      "outputs": []
    },
    {
      "cell_type": "code",
      "source": [
        "# 出力されたデータの長さを見てみる\n",
        "len(l_dmx)"
      ],
      "metadata": {
        "id": "V8CVde1pbpqp"
      },
      "execution_count": null,
      "outputs": []
    },
    {
      "cell_type": "code",
      "source": [
        "x_min = -10\n",
        "x_max = 10\n",
        "\n",
        "edges = np.arange(x_min, x_max, 0.2)\n",
        "\n",
        "fig = plt.figure(figsize=(10, 3))\n",
        "ax = fig.add_subplot(1,2,1)\n",
        "ax.hist(l_dmx, bins=edges)\n",
        "ax.set_title('x displacement')\n",
        "ax.set_xlabel('W <- x -> E')\n",
        "ax.set_ylabel('freq')\n",
        "ax.set_xlim(x_min, x_max)\n",
        "\n",
        "ax = fig.add_subplot(1,2,2)\n",
        "ax.hist(l_dmy, bins=edges)\n",
        "ax.set_title('y displacement')\n",
        "ax.set_xlabel('S<- y ->N')\n",
        "ax.set_ylabel('freq')\n",
        "ax.set_xlim(x_min, x_max)\n",
        "\n",
        "fig.show()"
      ],
      "metadata": {
        "id": "dO7C4eKSZ88D"
      },
      "execution_count": null,
      "outputs": []
    },
    {
      "cell_type": "code",
      "source": [
        "fln = bfs_clipped.split('/')[-1].split('.')[0] + \"_w\" + str(win_size) +\".png\"\n",
        "out_fig_path = \"/content/drive/MyDrive/shared_2025JPGU/data/fig\"\n",
        "out_path = os.path.join(out_fig_path, fln)\n"
      ],
      "metadata": {
        "id": "vHv2bUURbyOs"
      },
      "execution_count": null,
      "outputs": []
    },
    {
      "cell_type": "code",
      "source": [
        "out_path"
      ],
      "metadata": {
        "id": "JxxWWUE7dv9s"
      },
      "execution_count": null,
      "outputs": []
    }
  ]
}